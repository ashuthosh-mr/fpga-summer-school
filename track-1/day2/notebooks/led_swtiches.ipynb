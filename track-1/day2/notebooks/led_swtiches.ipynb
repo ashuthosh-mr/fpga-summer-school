{
 "cells": [
  {
   "cell_type": "code",
   "execution_count": 2,
   "id": "b37731ef-f0e2-4ae6-a0f6-261118d48876",
   "metadata": {},
   "outputs": [],
   "source": [
    "from pynq.overlays.base import BaseOverlay\n",
    "base = BaseOverlay(\"base.bit\")"
   ]
  },
  {
   "cell_type": "code",
   "execution_count": 3,
   "id": "b79f556d-8c3f-41bc-a636-0dd7ab80a57b",
   "metadata": {},
   "outputs": [],
   "source": [
    "led0 = base.leds[0]\n",
    "led1 = base.leds[1]\n",
    "led2 = base.leds[2]\n",
    "led3 = base.leds[3]"
   ]
  },
  {
   "cell_type": "code",
   "execution_count": 6,
   "id": "dc09323a-9863-4d81-98f0-3efa3b20a246",
   "metadata": {},
   "outputs": [],
   "source": [
    "sw0 = base.switches[0]"
   ]
  },
  {
   "cell_type": "code",
   "execution_count": 7,
   "id": "07b7f809-de84-42d4-87e2-583ca4673ca3",
   "metadata": {},
   "outputs": [
    {
     "name": "stderr",
     "output_type": "stream",
     "text": [
      "\n",
      "KeyboardInterrupt\n",
      "\n"
     ]
    }
   ],
   "source": [
    "while(True):\n",
    "    if(sw0.read() == True):\n",
    "        led0.on()\n",
    "        led1.on()\n",
    "        led2.off()\n",
    "        led3.off()\n",
    "    else:\n",
    "        led0.off()\n",
    "        led1.off()\n",
    "        led2.on()\n",
    "        led3.on()"
   ]
  },
  {
   "cell_type": "code",
   "execution_count": 8,
   "id": "47dda5a2-a30a-4ab8-b66c-0973a4a96150",
   "metadata": {},
   "outputs": [
    {
     "data": {
      "text/plain": [
       "True"
      ]
     },
     "execution_count": 8,
     "metadata": {},
     "output_type": "execute_result"
    }
   ],
   "source": [
    "base.is_loaded()"
   ]
  },
  {
   "cell_type": "code",
   "execution_count": null,
   "id": "d2da9eea-43a1-4885-b446-397e766d801e",
   "metadata": {},
   "outputs": [],
   "source": []
  }
 ],
 "metadata": {
  "kernelspec": {
   "display_name": "Python 3 (ipykernel)",
   "language": "python",
   "name": "python3"
  },
  "language_info": {
   "codemirror_mode": {
    "name": "ipython",
    "version": 3
   },
   "file_extension": ".py",
   "mimetype": "text/x-python",
   "name": "python",
   "nbconvert_exporter": "python",
   "pygments_lexer": "ipython3",
   "version": "3.10.4"
  }
 },
 "nbformat": 4,
 "nbformat_minor": 5
}
